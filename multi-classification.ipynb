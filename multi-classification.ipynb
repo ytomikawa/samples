{
 "cells": [
  {
   "cell_type": "markdown",
   "metadata": {},
   "source": [
    "# multi classification\n",
    "\n",
    "## sklearn \n",
    "https://scikit-learn.org/stable/modules/multiclass.html\n",
    "### train/test\n",
    "https://note.nkmk.me/python-sklearn-train-test-split/\n",
    "\n",
    "\n",
    "## NN\n",
    "sklearn\n",
    "https://www.kaggle.com/gicopg/machine-learning-project\n",
    "（A-NN）\n",
    "https://www.kaggle.com/mirichoi0218/ann-slp-making-model-for-multi-classification#9.-Submission\n",
    "## Logistic regression\n",
    "https://teddykoker.com/2019/06/multi-class-classification-with-logistic-regression-in-python/\n",
    "<br>色々を浅く\n",
    "https://www.kaggle.com/angeelee/zoo-animal-classification\n",
    "<br>(参考）\n",
    "https://towardsdatascience.com/using-logistic-regression-to-create-a-binary-and-multiclass-classifier-from-basics-26f5e1e92777\n",
    "## SVM\n",
    "https://www.kaggle.com/yufengg/scikit-learn-example\n",
    "## XGBoost\n",
    "https://machinelearningmastery.com/gradient-boosting-machine-ensemble-in-python/\n",
    "importanceのplot\n",
    "https://machinelearningmastery.com/feature-importance-and-feature-selection-with-xgboost-in-python/\n",
    "https://machinelearningmastery.com/gradient-boosting-with-scikit-learn-xgboost-lightgbm-and-catboost/\n",
    "## LightGBM\n",
    "https://medium.com/@nitin9809/lightgbm-binary-classification-multi-class-classification-regression-using-python-4f22032b36a2\n",
    "<BR>importance https://qiita.com/studio_haneya/items/e70e835c26524d506e19\n",
    "## random forest\n",
    "<br>色々を浅く\n",
    "https://www.kaggle.com/snjumaheshwari/zoo-animal-classification\n",
    "\n",
    "\n",
    "\n",
    "## 結果の可視化\n",
    "confusion_matrix<br>\n",
    "https://www.kaggle.com/gicopg/machine-learning-project"
   ]
  },
  {
   "cell_type": "markdown",
   "metadata": {},
   "source": [
    "アンケートでみておくもの\n",
    "・年齢、性別の登録情報の真偽\n",
    "・セグメントとの一致度\n",
    "　購入するもの、性別、一人かどうかの差"
   ]
  },
  {
   "cell_type": "code",
   "execution_count": null,
   "metadata": {},
   "outputs": [],
   "source": []
  }
 ],
 "metadata": {
  "kernelspec": {
   "display_name": "Python 3",
   "language": "python",
   "name": "python3"
  },
  "language_info": {
   "codemirror_mode": {
    "name": "ipython",
    "version": 3
   },
   "file_extension": ".py",
   "mimetype": "text/x-python",
   "name": "python",
   "nbconvert_exporter": "python",
   "pygments_lexer": "ipython3",
   "version": "3.7.6"
  }
 },
 "nbformat": 4,
 "nbformat_minor": 4
}
